{
 "cells": [
  {
   "cell_type": "code",
   "execution_count": 18,
   "metadata": {},
   "outputs": [],
   "source": [
    "import sys\n",
    "sys.path.append(\"..\")\n",
    "import cv2\n",
    "import numpy as np"
   ]
  },
  {
   "cell_type": "code",
   "execution_count": 2,
   "metadata": {},
   "outputs": [],
   "source": [
    "from PIL import Image\n"
   ]
  },
  {
   "cell_type": "code",
   "execution_count": 3,
   "metadata": {},
   "outputs": [],
   "source": [
    "from cactus.processing.video import to_frames\n",
    "#to_frames('../videos/Lab/Prueba_Martin - Ingenieria 21-316.avi', '../frame',1)\n"
   ]
  },
  {
   "cell_type": "code",
   "execution_count": 4,
   "metadata": {},
   "outputs": [],
   "source": [
    "from cactus.face.detection import detector"
   ]
  },
  {
   "cell_type": "code",
   "execution_count": 5,
   "metadata": {},
   "outputs": [
    {
     "name": "stdout",
     "output_type": "stream",
     "text": [
      "Using haar method\n"
     ]
    }
   ],
   "source": [
    "dnn_detector = detector(\"haar\")\n"
   ]
  },
  {
   "cell_type": "code",
   "execution_count": 6,
   "metadata": {},
   "outputs": [],
   "source": [
    "img1 = \"../frame/2019-05-13 10:38:49.961869.jpg\"\n",
    "img2 = \"../frame/2019-05-13 10:38:50.125851.jpg\"\n",
    "img3 = \"../frame/2019-05-13 10:38:50.282629.jpg\"\n",
    "\n",
    "hawking = \"../src/hawkingt-stephen-hawking-june-2004.jpg\"\n",
    "feynman = \"../src/feynman.jpeg\"\n",
    "bigbang = \"../src/thebigbang.jpg\"\n",
    "bigbang2 = \"../src/bigbang2.jpg\""
   ]
  },
  {
   "cell_type": "code",
   "execution_count": 7,
   "metadata": {},
   "outputs": [],
   "source": [
    "b1 = dnn_detector.detect(img1)\n",
    "b2 = dnn_detector.detect(img2)\n",
    "b3 = dnn_detector.detect(img3)\n",
    "\n",
    "bh = dnn_detector.detect(hawking)\n",
    "bf = dnn_detector.detect(feynman)"
   ]
  },
  {
   "cell_type": "code",
   "execution_count": 8,
   "metadata": {},
   "outputs": [],
   "source": [
    "boxes = dnn_detector.get_boxes_from_directory([img1,img2,img3, hawking,bigbang,bigbang2, feynman])"
   ]
  },
  {
   "cell_type": "code",
   "execution_count": 9,
   "metadata": {},
   "outputs": [
    {
     "data": {
      "text/plain": [
       "[['../src/bigbang2.jpg', array([189.3,  40.3, 264.7, 115.7])],\n",
       " ['../src/bigbang2.jpg', array([242.6,  79.6, 315.4, 152.4])],\n",
       " ['../src/bigbang2.jpg', array([129.8, 101.8, 218.2, 190.2])],\n",
       " ['../src/bigbang2.jpg', array([443.95,  61.95, 531.05, 149.05])],\n",
       " ['../src/bigbang2.jpg', array([ 77.9,  89.9, 148.1, 160.1])],\n",
       " ['../src/bigbang2.jpg', array([343.65,  99.65, 433.35, 189.35])],\n",
       " ['../src/bigbang2.jpg', array([465.05, 180.05, 559.95, 274.95])]]"
      ]
     },
     "execution_count": 9,
     "metadata": {},
     "output_type": "execute_result"
    }
   ],
   "source": [
    "boxes[5]"
   ]
  },
  {
   "cell_type": "code",
   "execution_count": 10,
   "metadata": {},
   "outputs": [],
   "source": [
    "from cactus.utils import folder"
   ]
  },
  {
   "cell_type": "code",
   "execution_count": 11,
   "metadata": {},
   "outputs": [],
   "source": [
    "raiz = folder.get_folders(\"../cactus/face\")"
   ]
  },
  {
   "cell_type": "code",
   "execution_count": 12,
   "metadata": {},
   "outputs": [
    {
     "name": "stdout",
     "output_type": "stream",
     "text": [
      "[['../cactus/face/strategy/haar.py', 'faces/strategy/haar.py'], ['../cactus/face/strategy/dnn.py', 'faces/strategy/dnn.py'], ['../cactus/face/strategy/__init__.py', 'faces/strategy/__init__.py'], ['../cactus/face/strategy/hog.py', 'faces/strategy/hog.py']]\n",
      "[['../cactus/face/__pycache__/detection.cpython-36.pyc', 'faces/__pycache__/detection.cpython-36.pyc'], ['../cactus/face/__pycache__/__init__.cpython-36.pyc', 'faces/__pycache__/__init__.cpython-36.pyc']]\n"
     ]
    }
   ],
   "source": [
    "frames = \"../cactus/face\"\n",
    "dest = \"faces\"\n",
    "for nodo in raiz:\n",
    "    nodo_total = \"{}/{}\".format(frames, nodo)\n",
    "    nodo_destino = \"{}/{}\".format(dest, nodo)\n",
    "    \n",
    "    archivos = folder.get_files(nodo_total)\n",
    "    archivos = list(map(lambda x:[\"{}/{}\".format(nodo_total,x),\"{}/{}\".format(nodo_destino,x)] , archivos))\n",
    "    print(archivos)"
   ]
  },
  {
   "cell_type": "code",
   "execution_count": 46,
   "metadata": {},
   "outputs": [],
   "source": [
    "lista = folder.get_paths_with_dest(\"../videos\",\"frames\")"
   ]
  },
  {
   "cell_type": "code",
   "execution_count": 41,
   "metadata": {},
   "outputs": [],
   "source": [
    "out = np.concatenate(lista).ravel()"
   ]
  },
  {
   "cell_type": "code",
   "execution_count": 45,
   "metadata": {},
   "outputs": [
    {
     "data": {
      "text/plain": [
       "'frames/manu/video-1531952534.mp4'"
      ]
     },
     "execution_count": 45,
     "metadata": {},
     "output_type": "execute_result"
    }
   ],
   "source": [
    "out[1]"
   ]
  }
 ],
 "metadata": {
  "kernelspec": {
   "display_name": "cactus",
   "language": "python",
   "name": "cactus"
  },
  "language_info": {
   "codemirror_mode": {
    "name": "ipython",
    "version": 3
   },
   "file_extension": ".py",
   "mimetype": "text/x-python",
   "name": "python",
   "nbconvert_exporter": "python",
   "pygments_lexer": "ipython3",
   "version": "3.6.7"
  }
 },
 "nbformat": 4,
 "nbformat_minor": 2
}
