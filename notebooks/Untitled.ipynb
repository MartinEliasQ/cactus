{
 "cells": [
  {
   "cell_type": "code",
   "execution_count": 20,
   "metadata": {},
   "outputs": [],
   "source": [
    "import sys\n",
    "sys.path.append(\"..\")\n",
    "import cv2"
   ]
  },
  {
   "cell_type": "code",
   "execution_count": 21,
   "metadata": {},
   "outputs": [],
   "source": [
    "from PIL import Image\n"
   ]
  },
  {
   "cell_type": "code",
   "execution_count": 23,
   "metadata": {},
   "outputs": [
    {
     "ename": "KeyboardInterrupt",
     "evalue": "",
     "output_type": "error",
     "traceback": [
      "\u001b[0;31m---------------------------------------------------------------------------\u001b[0m",
      "\u001b[0;31mKeyboardInterrupt\u001b[0m                         Traceback (most recent call last)",
      "\u001b[0;32m<ipython-input-23-e99f324de4f2>\u001b[0m in \u001b[0;36m<module>\u001b[0;34m\u001b[0m\n\u001b[1;32m      1\u001b[0m \u001b[0;32mfrom\u001b[0m \u001b[0mcactus\u001b[0m\u001b[0;34m.\u001b[0m\u001b[0mprocessing\u001b[0m\u001b[0;34m.\u001b[0m\u001b[0mvideo\u001b[0m \u001b[0;32mimport\u001b[0m \u001b[0mto_frames\u001b[0m\u001b[0;34m\u001b[0m\u001b[0;34m\u001b[0m\u001b[0m\n\u001b[0;32m----> 2\u001b[0;31m \u001b[0mto_frames\u001b[0m\u001b[0;34m(\u001b[0m\u001b[0;34m'../videos/Lab/Prueba_Martin - Ingenieria 21-316.avi'\u001b[0m\u001b[0;34m,\u001b[0m \u001b[0;34m'../frame'\u001b[0m\u001b[0;34m,\u001b[0m\u001b[0;36m1\u001b[0m\u001b[0;34m)\u001b[0m\u001b[0;34m\u001b[0m\u001b[0;34m\u001b[0m\u001b[0m\n\u001b[0m",
      "\u001b[0;32m~/Documents/Ai/TrabajoGrado/cactus/cactus/processing/video.py\u001b[0m in \u001b[0;36mto_frames\u001b[0;34m(path, dest, rate)\u001b[0m\n\u001b[1;32m     13\u001b[0m         \u001b[0mvideo\u001b[0m\u001b[0;34m.\u001b[0m\u001b[0mset\u001b[0m\u001b[0;34m(\u001b[0m\u001b[0mcv2\u001b[0m\u001b[0;34m.\u001b[0m\u001b[0mCAP_PROP_POS_MSEC\u001b[0m\u001b[0;34m,\u001b[0m \u001b[0;34m(\u001b[0m\u001b[0mcount\u001b[0m\u001b[0;34m*\u001b[0m\u001b[0;36m1000\u001b[0m\u001b[0;34m)\u001b[0m\u001b[0;34m)\u001b[0m\u001b[0;34m\u001b[0m\u001b[0;34m\u001b[0m\u001b[0m\n\u001b[1;32m     14\u001b[0m         cv2.imwrite('{}/{}.jpg'\n\u001b[0;32m---> 15\u001b[0;31m                     .format(dest, str(datetime.now())), frame)\n\u001b[0m\u001b[1;32m     16\u001b[0m         \u001b[0msuccess\u001b[0m\u001b[0;34m,\u001b[0m \u001b[0mframe\u001b[0m \u001b[0;34m=\u001b[0m \u001b[0mvideo\u001b[0m\u001b[0;34m.\u001b[0m\u001b[0mread\u001b[0m\u001b[0;34m(\u001b[0m\u001b[0;34m)\u001b[0m\u001b[0;34m\u001b[0m\u001b[0;34m\u001b[0m\u001b[0m\n\u001b[1;32m     17\u001b[0m         \u001b[0mcount\u001b[0m \u001b[0;34m+=\u001b[0m \u001b[0mrate\u001b[0m\u001b[0;34m\u001b[0m\u001b[0;34m\u001b[0m\u001b[0m\n",
      "\u001b[0;31mKeyboardInterrupt\u001b[0m: "
     ]
    }
   ],
   "source": [
    "from cactus.processing.video import to_frames\n",
    "to_frames('../videos/Lab/Prueba_Martin - Ingenieria 21-316.avi', '../frame',1)\n"
   ]
  },
  {
   "cell_type": "code",
   "execution_count": 4,
   "metadata": {},
   "outputs": [],
   "source": [
    "from cactus.face.detection import detector"
   ]
  },
  {
   "cell_type": "code",
   "execution_count": 35,
   "metadata": {},
   "outputs": [
    {
     "name": "stdout",
     "output_type": "stream",
     "text": [
      "Using haar method\n"
     ]
    }
   ],
   "source": [
    "dnn_detector = detector(\"haar\")\n"
   ]
  },
  {
   "cell_type": "code",
   "execution_count": 36,
   "metadata": {},
   "outputs": [],
   "source": [
    "img1 = \"../frame/2019-05-13 10:38:49.961869.jpg\"\n",
    "img2 = \"../frame/2019-05-13 10:38:50.125851.jpg\"\n",
    "img3 = \"../frame/2019-05-13 10:38:50.282629.jpg\"\n",
    "\n",
    "hawking = \"../src/hawkingt-stephen-hawking-june-2004.jpg\"\n",
    "feynman = \"../src/feynman.jpeg\""
   ]
  },
  {
   "cell_type": "code",
   "execution_count": 37,
   "metadata": {},
   "outputs": [],
   "source": [
    "b1 = dnn_detector.detect(img1)\n",
    "b2 = dnn_detector.detect(img2)\n",
    "b3 = dnn_detector.detect(img3)\n",
    "\n",
    "bh = dnn_detector.detect(hawking)\n",
    "bf = dnn_detector.detect(feynman)"
   ]
  },
  {
   "cell_type": "code",
   "execution_count": 38,
   "metadata": {},
   "outputs": [
    {
     "name": "stdout",
     "output_type": "stream",
     "text": [
      "[array([700.7, 310.7, 755.3, 365.3])] [array([797.3, 374.3, 872.7, 449.7])] [array([1128.85,  417.85, 1208.15,  497.15])]\n",
      "[array([ 785.05,  185.05, 1295.95,  695.95])]\n",
      "[]\n"
     ]
    }
   ],
   "source": [
    "print(b1,b2,b3)\n",
    "print(bf)\n",
    "print(bh)"
   ]
  }
 ],
 "metadata": {
  "kernelspec": {
   "display_name": "cactus",
   "language": "python",
   "name": "cactus"
  },
  "language_info": {
   "codemirror_mode": {
    "name": "ipython",
    "version": 3
   },
   "file_extension": ".py",
   "mimetype": "text/x-python",
   "name": "python",
   "nbconvert_exporter": "python",
   "pygments_lexer": "ipython3",
   "version": "3.6.7"
  }
 },
 "nbformat": 4,
 "nbformat_minor": 2
}
