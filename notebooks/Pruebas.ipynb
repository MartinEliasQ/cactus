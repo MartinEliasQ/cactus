{
 "cells": [
  {
   "cell_type": "code",
   "execution_count": 1,
   "metadata": {},
   "outputs": [],
   "source": [
    "import sys\n",
    "sys.path.append(\"..\")\n",
    "import cv2\n",
    "import numpy as np\n",
    "from cactus.face.detection import detector\n",
    "from cactus.processing.video import to_frames, folder_to_frames\n",
    "from PIL import Image"
   ]
  },
  {
   "cell_type": "code",
   "execution_count": 2,
   "metadata": {},
   "outputs": [
    {
     "name": "stdout",
     "output_type": "stream",
     "text": [
      "Using dnn method\n",
      "Detecting jerson's faces\n",
      "Detecting angel's faces\n",
      "Detecting frank's faces\n",
      "Detecting martin's faces\n",
      "Detecting Lab's faces\n",
      "Detecting manu's faces\n",
      "Detecting cristian's faces\n"
     ]
    }
   ],
   "source": [
    "#folder_to_frames(\"../videos/\", \"../framess\")\n",
    "dnn_detector = detector(\"dnn\")\n",
    "faces = dnn_detector.to_face(\"../framess\", \"salidas\")"
   ]
  },
  {
   "cell_type": "code",
   "execution_count": 4,
   "metadata": {},
   "outputs": [],
   "source": [
    "from cactus.utils.image import crop_and_save, crop_Image_rect"
   ]
  },
  {
   "cell_type": "code",
   "execution_count": 5,
   "metadata": {},
   "outputs": [
    {
     "data": {
      "text/plain": [
       "[[['../framess/jerson/2019-06-18 16:26:15.343584.jpg',\n",
       "   array([ 43, 188, 213, 425])]],\n",
       " [['../framess/jerson/2019-06-18 16:26:16.102665.jpg',\n",
       "   array([ 90, 132, 328, 519])],\n",
       "  ['../framess/jerson/2019-06-18 16:26:16.102665.jpg',\n",
       "   array([217, 359, 453, 735])]],\n",
       " [['../framess/jerson/2019-06-18 16:26:15.052833.jpg',\n",
       "   array([ 84, 263, 313, 619])],\n",
       "  ['../framess/jerson/2019-06-18 16:26:15.052833.jpg',\n",
       "   array([204, 557, 440, 886])]],\n",
       " [['../framess/jerson/2019-06-18 16:26:16.475985.jpg',\n",
       "   array([ 60, 153, 297, 486])],\n",
       "  ['../framess/jerson/2019-06-18 16:26:16.475985.jpg',\n",
       "   array([183, 377, 417, 698])]],\n",
       " [['../framess/jerson/2019-06-18 16:26:15.376626.jpg',\n",
       "   array([124, 186, 296, 432])]],\n",
       " [['../framess/jerson/2019-06-18 16:26:16.398822.jpg',\n",
       "   array([ 76, 142, 312, 470])],\n",
       "  ['../framess/jerson/2019-06-18 16:26:16.398822.jpg',\n",
       "   array([201, 366, 432, 679])]],\n",
       " [['../framess/jerson/2019-06-18 16:26:16.504992.jpg',\n",
       "   array([158, 491, 439, 904])],\n",
       "  ['../framess/jerson/2019-06-18 16:26:16.504992.jpg',\n",
       "   array([ 37, 210, 315, 625])],\n",
       "  ['../framess/jerson/2019-06-18 16:26:16.504992.jpg',\n",
       "   array([ 769, 2018, 1055, 2455])],\n",
       "  ['../framess/jerson/2019-06-18 16:26:16.504992.jpg',\n",
       "   array([ 764, 1488, 1058, 1955])]],\n",
       " [['../framess/jerson/2019-06-18 16:26:16.160237.jpg',\n",
       "   array([ 86, 145, 315, 477])],\n",
       "  ['../framess/jerson/2019-06-18 16:26:16.160237.jpg',\n",
       "   array([213, 372, 434, 686])]],\n",
       " [['../framess/jerson/2019-06-18 16:26:15.436059.jpg',\n",
       "   array([ 55, 194, 226, 445])]],\n",
       " [['../framess/jerson/2019-06-18 16:26:14.624970.jpg',\n",
       "   array([ 85, 155, 278, 468])],\n",
       "  ['../framess/jerson/2019-06-18 16:26:14.624970.jpg',\n",
       "   array([205, 373, 403, 685])]],\n",
       " [['../framess/jerson/2019-06-18 16:26:15.676196.jpg',\n",
       "   array([190, 269, 367, 542])]],\n",
       " [['../framess/jerson/2019-06-18 16:26:16.215157.jpg',\n",
       "   array([ 66, 146, 304, 500])],\n",
       "  ['../framess/jerson/2019-06-18 16:26:16.215157.jpg',\n",
       "   array([188, 370, 428, 714])]],\n",
       " [['../framess/jerson/2019-06-18 16:26:15.145110.jpg',\n",
       "   array([ 75, 191, 303, 518])],\n",
       "  ['../framess/jerson/2019-06-18 16:26:15.145110.jpg',\n",
       "   array([197, 412, 422, 738])]],\n",
       " [['../framess/jerson/2019-06-18 16:26:15.834363.jpg',\n",
       "   array([115, 221, 303, 506])]],\n",
       " [['../framess/jerson/2019-06-18 16:26:15.070295.jpg',\n",
       "   array([  5, 154, 205, 467])],\n",
       "  ['../framess/jerson/2019-06-18 16:26:15.070295.jpg',\n",
       "   array([ 88, 362, 297, 697])]],\n",
       " [['../framess/jerson/2019-06-18 16:26:15.809640.jpg',\n",
       "   array([ 95, 221, 282, 521])]],\n",
       " [['../framess/jerson/2019-06-18 16:26:14.717817.jpg',\n",
       "   array([  0, 225, 166, 494])]],\n",
       " [['../framess/jerson/2019-06-18 16:26:15.754861.jpg',\n",
       "   array([ 96, 217, 270, 499])]],\n",
       " [['../framess/jerson/2019-06-18 16:26:16.136723.jpg',\n",
       "   array([ 90, 126, 322, 450])],\n",
       "  ['../framess/jerson/2019-06-18 16:26:16.136723.jpg',\n",
       "   array([215, 347, 448, 660])]],\n",
       " [['../framess/jerson/2019-06-18 16:26:16.551863.jpg',\n",
       "   array([ 31, 155, 283, 542])],\n",
       "  ['../framess/jerson/2019-06-18 16:26:16.551863.jpg',\n",
       "   array([152, 380, 403, 764])]],\n",
       " [['../framess/jerson/2019-06-18 16:26:15.852497.jpg',\n",
       "   array([ 70, 142, 298, 473])],\n",
       "  ['../framess/jerson/2019-06-18 16:26:15.852497.jpg',\n",
       "   array([193, 367, 417, 685])]],\n",
       " [['../framess/jerson/2019-06-18 16:26:15.910057.jpg',\n",
       "   array([ 99, 154, 332, 511])],\n",
       "  ['../framess/jerson/2019-06-18 16:26:15.910057.jpg',\n",
       "   array([225, 380, 452, 726])]],\n",
       " [['../framess/jerson/2019-06-18 16:26:15.024243.jpg',\n",
       "   array([ 58, 236, 285, 577])],\n",
       "  ['../framess/jerson/2019-06-18 16:26:15.024243.jpg',\n",
       "   array([178, 527, 412, 836])]],\n",
       " [['../framess/jerson/2019-06-18 16:26:15.257210.jpg',\n",
       "   array([ 63, 211, 290, 537])],\n",
       "  ['../framess/jerson/2019-06-18 16:26:15.257210.jpg',\n",
       "   array([185, 427, 412, 762])]],\n",
       " [['../framess/jerson/2019-06-18 16:26:16.646825.jpg',\n",
       "   array([ 15, 173, 260, 521])],\n",
       "  ['../framess/jerson/2019-06-18 16:26:16.646825.jpg',\n",
       "   array([110, 397, 335, 741])]],\n",
       " [['../framess/jerson/2019-06-18 16:26:15.935129.jpg',\n",
       "   array([ 45, 143, 277, 466])],\n",
       "  ['../framess/jerson/2019-06-18 16:26:15.935129.jpg',\n",
       "   array([165, 364, 402, 684])]],\n",
       " [['../framess/jerson/2019-06-18 16:26:16.570565.jpg',\n",
       "   array([ 41, 165, 291, 530])],\n",
       "  ['../framess/jerson/2019-06-18 16:26:16.570565.jpg',\n",
       "   array([162, 394, 410, 754])]],\n",
       " [['../framess/jerson/2019-06-18 16:26:15.116674.jpg',\n",
       "   array([ 74, 197, 300, 523])],\n",
       "  ['../framess/jerson/2019-06-18 16:26:15.116674.jpg',\n",
       "   array([196, 417, 421, 745])]],\n",
       " [['../framess/jerson/2019-06-18 16:26:14.599536.jpg',\n",
       "   array([ 79, 163, 274, 464])]],\n",
       " [['../framess/jerson/2019-06-18 16:26:15.642173.jpg',\n",
       "   array([200, 271, 366, 543])]],\n",
       " [['../framess/jerson/2019-06-18 16:26:16.720284.jpg',\n",
       "   array([100, 172, 355, 534])],\n",
       "  ['../framess/jerson/2019-06-18 16:26:16.720284.jpg',\n",
       "   array([260, 386, 505, 765])]],\n",
       " [['../framess/jerson/2019-06-18 16:26:16.348891.jpg',\n",
       "   array([ 75, 143, 310, 473])],\n",
       "  ['../framess/jerson/2019-06-18 16:26:16.348891.jpg',\n",
       "   array([200, 368, 430, 683])]],\n",
       " [['../framess/jerson/2019-06-18 16:26:14.763497.jpg',\n",
       "   array([ 95, 312, 357, 798])],\n",
       "  ['../framess/jerson/2019-06-18 16:26:14.763497.jpg',\n",
       "   array([ 437, 1404,  715, 1905])]],\n",
       " [['../framess/jerson/2019-06-18 16:26:16.296893.jpg',\n",
       "   array([ 75, 141, 311, 471])],\n",
       "  ['../framess/jerson/2019-06-18 16:26:16.296893.jpg',\n",
       "   array([199, 364, 432, 681])]],\n",
       " [['../framess/jerson/2019-06-18 16:26:16.078438.jpg',\n",
       "   array([ 89, 142, 325, 493])],\n",
       "  ['../framess/jerson/2019-06-18 16:26:16.078438.jpg',\n",
       "   array([215, 372, 447, 702])]],\n",
       " [['../framess/jerson/2019-06-18 16:26:14.643604.jpg',\n",
       "   array([ 90, 151, 285, 464])],\n",
       "  ['../framess/jerson/2019-06-18 16:26:14.643604.jpg',\n",
       "   array([210, 370, 409, 679])]],\n",
       " [['../framess/jerson/2019-06-18 16:26:16.043546.jpg',\n",
       "   array([ 91, 144, 328, 505])],\n",
       "  ['../framess/jerson/2019-06-18 16:26:16.043546.jpg',\n",
       "   array([216, 371, 453, 718])]],\n",
       " [['../framess/jerson/2019-06-18 16:26:16.021917.jpg',\n",
       "   array([ 92, 145, 328, 488])],\n",
       "  ['../framess/jerson/2019-06-18 16:26:16.021917.jpg',\n",
       "   array([217, 373, 449, 699])]],\n",
       " [['../framess/jerson/2019-06-18 16:26:15.005867.jpg',\n",
       "   array([ 43, 192, 280, 513])],\n",
       "  ['../framess/jerson/2019-06-18 16:26:15.005867.jpg',\n",
       "   array([168, 407, 399, 738])]],\n",
       " [],\n",
       " [['../framess/jerson/2019-06-18 16:26:15.457651.jpg',\n",
       "   array([109, 203, 275, 441])]],\n",
       " [['../framess/jerson/2019-06-18 16:26:16.195639.jpg',\n",
       "   array([ 85, 146, 320, 517])],\n",
       "  ['../framess/jerson/2019-06-18 16:26:16.195639.jpg',\n",
       "   array([211, 374, 444, 732])]],\n",
       " [['../framess/jerson/2019-06-18 16:26:15.876025.jpg',\n",
       "   array([ 70, 142, 298, 473])],\n",
       "  ['../framess/jerson/2019-06-18 16:26:15.876025.jpg',\n",
       "   array([193, 367, 417, 685])]],\n",
       " [['../framess/jerson/2019-06-18 16:26:14.828183.jpg',\n",
       "   array([104, 203, 311, 489])]],\n",
       " [['../framess/jerson/2019-06-18 16:26:15.320206.jpg',\n",
       "   array([ 43, 188, 213, 425])]],\n",
       " [['../framess/jerson/2019-06-18 16:26:16.369108.jpg',\n",
       "   array([ 77, 139, 309, 476])],\n",
       "  ['../framess/jerson/2019-06-18 16:26:16.369108.jpg',\n",
       "   array([202, 365, 430, 686])]],\n",
       " [['../framess/jerson/2019-06-18 16:26:15.583974.jpg',\n",
       "   array([ 15, 441, 222, 658])]],\n",
       " [['../framess/jerson/2019-06-18 16:26:15.518158.jpg',\n",
       "   array([ 14, 256, 223, 542])]],\n",
       " [['../framess/jerson/2019-06-18 16:26:15.558867.jpg',\n",
       "   array([139, 272, 351, 498])]],\n",
       " [['../framess/jerson/2019-06-18 16:26:14.809548.jpg',\n",
       "   array([216, 262, 365, 526])],\n",
       "  ['../framess/jerson/2019-06-18 16:26:14.809548.jpg',\n",
       "   array([291, 523, 528, 903])]],\n",
       " [['../framess/jerson/2019-06-18 16:26:14.910350.jpg',\n",
       "   array([ 46, 211, 280, 549])],\n",
       "  ['../framess/jerson/2019-06-18 16:26:14.910350.jpg',\n",
       "   array([166, 426, 401, 774])]],\n",
       " [['../framess/jerson/2019-06-18 16:26:15.194615.jpg',\n",
       "   array([ 57, 201, 288, 527])],\n",
       "  ['../framess/jerson/2019-06-18 16:26:15.194615.jpg',\n",
       "   array([183, 420, 409, 752])]],\n",
       " [['../framess/jerson/2019-06-18 16:26:15.618064.jpg',\n",
       "   array([278, 327, 517, 791])]],\n",
       " [['../framess/jerson/2019-06-18 16:26:16.597609.jpg',\n",
       "   array([  2, 172, 244, 528])],\n",
       "  ['../framess/jerson/2019-06-18 16:26:16.597609.jpg',\n",
       "   array([ 91, 393, 329, 752])]],\n",
       " [['../framess/jerson/2019-06-18 16:26:14.690011.jpg',\n",
       "   array([  0, 278,  95, 556])]],\n",
       " [['../framess/jerson/2019-06-18 16:26:16.267334.jpg',\n",
       "   array([ 82, 143, 319, 479])],\n",
       "  ['../framess/jerson/2019-06-18 16:26:16.267334.jpg',\n",
       "   array([208, 369, 439, 688])]],\n",
       " [['../framess/jerson/2019-06-18 16:26:15.238707.jpg',\n",
       "   array([ 58, 219, 288, 540])],\n",
       "  ['../framess/jerson/2019-06-18 16:26:15.238707.jpg',\n",
       "   array([181, 434, 411, 765])]],\n",
       " [['../framess/jerson/2019-06-18 16:26:15.284906.jpg',\n",
       "   array([ 69, 203, 302, 555])],\n",
       "  ['../framess/jerson/2019-06-18 16:26:15.284906.jpg',\n",
       "   array([191, 425, 425, 774])]],\n",
       " [['../framess/jerson/2019-06-18 16:26:16.668067.jpg',\n",
       "   array([ 43,  55, 254, 359])]],\n",
       " [['../framess/jerson/2019-06-18 16:26:15.097549.jpg',\n",
       "   array([ 74, 189, 299, 508])],\n",
       "  ['../framess/jerson/2019-06-18 16:26:15.097549.jpg',\n",
       "   array([197, 409, 419, 729])]],\n",
       " [['../framess/jerson/2019-06-18 16:26:14.736921.jpg',\n",
       "   array([  1, 139, 113, 368])]],\n",
       " [['../framess/jerson/2019-06-18 16:26:14.881847.jpg',\n",
       "   array([ 93, 151, 304, 463])],\n",
       "  ['../framess/jerson/2019-06-18 16:26:14.881847.jpg',\n",
       "   array([214, 372, 427, 681])]],\n",
       " [['../framess/jerson/2019-06-18 16:26:15.212583.jpg',\n",
       "   array([ 69, 216, 295, 527])],\n",
       "  ['../framess/jerson/2019-06-18 16:26:15.212583.jpg',\n",
       "   array([191, 428, 418, 754])]],\n",
       " [['../framess/jerson/2019-06-18 16:26:15.966836.jpg',\n",
       "   array([104, 137, 323, 435])]],\n",
       " [['../framess/jerson/2019-06-18 16:26:16.317912.jpg',\n",
       "   array([ 76, 141, 310, 477])],\n",
       "  ['../framess/jerson/2019-06-18 16:26:16.317912.jpg',\n",
       "   array([201, 367, 431, 687])]],\n",
       " [['../framess/jerson/2019-06-18 16:26:16.453992.jpg',\n",
       "   array([ 49, 157, 288, 505])],\n",
       "  ['../framess/jerson/2019-06-18 16:26:16.453992.jpg',\n",
       "   array([173, 383, 408, 724])]],\n",
       " [['../framess/jerson/2019-06-18 16:26:16.245297.jpg',\n",
       "   array([ 72, 143, 309, 485])],\n",
       "  ['../framess/jerson/2019-06-18 16:26:16.245297.jpg',\n",
       "   array([197, 372, 430, 695])]],\n",
       " [['../framess/jerson/2019-06-18 16:26:15.730624.jpg',\n",
       "   array([ 93, 213, 268, 472])]],\n",
       " [['../framess/jerson/2019-06-18 16:26:14.781542.jpg',\n",
       "   array([ 75, 229, 274, 522])],\n",
       "  ['../framess/jerson/2019-06-18 16:26:14.781542.jpg',\n",
       "   array([183, 372, 420, 792])]],\n",
       " [['../framess/jerson/2019-06-18 16:26:16.739285.jpg',\n",
       "   array([135, 254, 363, 611])],\n",
       "  ['../framess/jerson/2019-06-18 16:26:16.739285.jpg',\n",
       "   array([296, 552, 522, 887])]],\n",
       " [['../framess/jerson/2019-06-18 16:26:14.930607.jpg',\n",
       "   array([ 42, 195, 273, 530])],\n",
       "  ['../framess/jerson/2019-06-18 16:26:14.930607.jpg',\n",
       "   array([167, 414, 391, 754])]],\n",
       " [['../framess/jerson/2019-06-18 16:26:15.402045.jpg',\n",
       "   array([125, 182, 299, 453])]],\n",
       " [],\n",
       " [['../framess/jerson/2019-06-18 16:26:15.991271.jpg',\n",
       "   array([ 94, 144, 330, 512])],\n",
       "  ['../framess/jerson/2019-06-18 16:26:15.991271.jpg',\n",
       "   array([222, 371, 454, 727])]],\n",
       " [['../framess/jerson/2019-06-18 16:26:16.423133.jpg',\n",
       "   array([  4, 172, 198, 459])]],\n",
       " [['../framess/jerson/2019-06-18 16:26:15.298977.jpg',\n",
       "   array([ 74, 214, 307, 543])],\n",
       "  ['../framess/jerson/2019-06-18 16:26:15.298977.jpg',\n",
       "   array([195, 432, 428, 765])]],\n",
       " [['../framess/jerson/2019-06-18 16:26:14.957637.jpg',\n",
       "   array([ 51, 190, 271, 509])],\n",
       "  ['../framess/jerson/2019-06-18 16:26:14.957637.jpg',\n",
       "   array([173, 407, 388, 731])]],\n",
       " [['../framess/jerson/2019-06-18 16:26:15.700165.jpg',\n",
       "   array([ 42, 186, 306, 450])],\n",
       "  ['../framess/jerson/2019-06-18 16:26:15.700165.jpg',\n",
       "   array([157, 384, 428, 690])]],\n",
       " [['../framess/jerson/2019-06-18 16:26:16.524409.jpg',\n",
       "   array([  9, 144, 279, 530])],\n",
       "  ['../framess/jerson/2019-06-18 16:26:16.524409.jpg',\n",
       "   array([129, 358, 401, 754])],\n",
       "  ['../framess/jerson/2019-06-18 16:26:16.524409.jpg',\n",
       "   array([ 448, 1444,  719, 1861])],\n",
       "  ['../framess/jerson/2019-06-18 16:26:16.524409.jpg',\n",
       "   array([ 746, 1446, 1019, 1856])]],\n",
       " [['../framess/jerson/2019-06-18 16:26:16.616551.jpg',\n",
       "   array([101, 183, 360, 526])],\n",
       "  ['../framess/jerson/2019-06-18 16:26:16.616551.jpg',\n",
       "   array([258, 403, 505, 750])]],\n",
       " [['../framess/jerson/2019-06-18 16:26:14.669367.jpg',\n",
       "   array([ 38, 153, 227, 404])]],\n",
       " [['../framess/jerson/2019-06-18 16:26:15.163790.jpg',\n",
       "   array([ 96, 155, 326, 488])],\n",
       "  ['../framess/jerson/2019-06-18 16:26:15.163790.jpg',\n",
       "   array([220, 377, 446, 699])]],\n",
       " [['../framess/jerson/2019-06-18 16:26:16.700653.jpg',\n",
       "   array([ -2,  25, 184, 386])]],\n",
       " [['../framess/jerson/2019-06-18 16:26:14.553221.jpg',\n",
       "   array([ 79, 163, 274, 464])]],\n",
       " [['../framess/jerson/2019-06-18 16:26:14.980021.jpg',\n",
       "   array([ 22, 126, 260, 503])],\n",
       "  ['../framess/jerson/2019-06-18 16:26:14.980021.jpg',\n",
       "   array([110, 338, 347, 728])]],\n",
       " [['../framess/jerson/2019-06-18 16:26:15.785063.jpg',\n",
       "   array([ 16, 227, 206, 480])]]]"
      ]
     },
     "execution_count": 5,
     "metadata": {},
     "output_type": "execute_result"
    }
   ],
   "source": [
    "faces[0]"
   ]
  },
  {
   "cell_type": "code",
   "execution_count": 8,
   "metadata": {},
   "outputs": [
    {
     "data": {
      "image/png": "[encoded data removed]",
      "text/plain": [
       "<PIL.Image.Image image mode=RGB size=299x299 at 0x7FBA880B2F98>"
      ]
     },
     "execution_count": 8,
     "metadata": {},
     "output_type": "execute_result"
    }
   ],
   "source": [
    "crop_Image_rect(\"../framess/jerson/2019-06-18 16:26:15.343584.jpg\",[ 43, 188, 213, 425],(299, 299))"
   ]
  },
  {
   "cell_type": "code",
   "execution_count": 9,
   "metadata": {},
   "outputs": [
    {
     "data": {
      "text/plain": [
       "'../outp/jerson/2019-06-18 16:26:15.343584.jpg'"
      ]
     },
     "execution_count": 9,
     "metadata": {},
     "output_type": "execute_result"
    }
   ],
   "source": [
    "\"../framess/jerson/2019-06-18 16:26:15.343584.jpg\".replace(\"framess\",\"outp\")"
   ]
  },
  {
   "cell_type": "code",
   "execution_count": 6,
   "metadata": {},
   "outputs": [],
   "source": [
    "from cactus.utils.folder import get_info"
   ]
  },
  {
   "cell_type": "code",
   "execution_count": 7,
   "metadata": {},
   "outputs": [],
   "source": [
    "from cactus.processing  import video"
   ]
  },
  {
   "cell_type": "code",
   "execution_count": 8,
   "metadata": {},
   "outputs": [
    {
     "name": "stdout",
     "output_type": "stream",
     "text": [
      "../frame\n"
     ]
    },
    {
     "data": {
      "text/plain": [
       "[('../frame', 'Jerson', []),\n",
       " ('../frame',\n",
       "  'Martin',\n",
       "  ['2019-05-13 10:38:50.282629.jpg',\n",
       "   '2019-05-13 10:38:50.435755.jpg',\n",
       "   '2019-05-13 10:38:49.961869.jpg',\n",
       "   '2019-05-13 10:38:51.629608.jpg',\n",
       "   '2019-05-13 10:38:50.125851.jpg'])]"
      ]
     },
     "execution_count": 8,
     "metadata": {},
     "output_type": "execute_result"
    }
   ],
   "source": [
    "video.folder_to_frames(\"../frame\")"
   ]
  },
  {
   "cell_type": "code",
   "execution_count": 8,
   "metadata": {},
   "outputs": [
    {
     "name": "stdout",
     "output_type": "stream",
     "text": [
      "Using haar method\n"
     ]
    }
   ],
   "source": [
    "\n"
   ]
  },
  {
   "cell_type": "code",
   "execution_count": 6,
   "metadata": {},
   "outputs": [],
   "source": [
    "img1 = \"../frame/2019-05-13 10:38:49.961869.jpg\"\n",
    "img2 = \"../frame/2019-05-13 10:38:50.125851.jpg\"\n",
    "img3 = \"../frame/2019-05-13 10:38:50.282629.jpg\"\n",
    "\n",
    "hawking = \"../src/hawkingt-stephen-hawking-june-2004.jpg\"\n",
    "feynman = \"../src/feynman.jpeg\"\n",
    "bigbang = \"../src/thebigbang.jpg\"\n",
    "bigbang2 = \"../src/bigbang2.jpg\""
   ]
  },
  {
   "cell_type": "code",
   "execution_count": 7,
   "metadata": {},
   "outputs": [],
   "source": [
    "b1 = dnn_detector.detect(img1)\n",
    "b2 = dnn_detector.detect(img2)\n",
    "b3 = dnn_detector.detect(img3)\n",
    "\n",
    "bh = dnn_detector.detect(hawking)\n",
    "bf = dnn_detector.detect(feynman)"
   ]
  },
  {
   "cell_type": "code",
   "execution_count": 8,
   "metadata": {},
   "outputs": [],
   "source": [
    "boxes = dnn_detector.get_boxes_from_directory([img1,img2,img3, hawking,bigbang,bigbang2, feynman])"
   ]
  },
  {
   "cell_type": "code",
   "execution_count": 16,
   "metadata": {},
   "outputs": [
    {
     "data": {
      "text/plain": [
       "[['../src/bigbang2.jpg', array([189.3,  40.3, 264.7, 115.7])],\n",
       " ['../src/bigbang2.jpg', array([242.6,  79.6, 315.4, 152.4])],\n",
       " ['../src/bigbang2.jpg', array([129.8, 101.8, 218.2, 190.2])],\n",
       " ['../src/bigbang2.jpg', array([443.95,  61.95, 531.05, 149.05])],\n",
       " ['../src/bigbang2.jpg', array([ 77.9,  89.9, 148.1, 160.1])],\n",
       " ['../src/bigbang2.jpg', array([343.65,  99.65, 433.35, 189.35])],\n",
       " ['../src/bigbang2.jpg', array([465.05, 180.05, 559.95, 274.95])]]"
      ]
     },
     "execution_count": 16,
     "metadata": {},
     "output_type": "execute_result"
    }
   ],
   "source": [
    "boxes[5]"
   ]
  },
  {
   "cell_type": "code",
   "execution_count": 17,
   "metadata": {},
   "outputs": [],
   "source": [
    "from cactus.utils import folder"
   ]
  },
  {
   "cell_type": "code",
   "execution_count": 32,
   "metadata": {},
   "outputs": [
    {
     "data": {
      "text/plain": [
       "['__add__',\n",
       " '__class__',\n",
       " '__contains__',\n",
       " '__delattr__',\n",
       " '__dir__',\n",
       " '__doc__',\n",
       " '__eq__',\n",
       " '__format__',\n",
       " '__ge__',\n",
       " '__getattribute__',\n",
       " '__getitem__',\n",
       " '__getnewargs__',\n",
       " '__gt__',\n",
       " '__hash__',\n",
       " '__init__',\n",
       " '__init_subclass__',\n",
       " '__iter__',\n",
       " '__le__',\n",
       " '__len__',\n",
       " '__lt__',\n",
       " '__mod__',\n",
       " '__mul__',\n",
       " '__ne__',\n",
       " '__new__',\n",
       " '__reduce__',\n",
       " '__reduce_ex__',\n",
       " '__repr__',\n",
       " '__rmod__',\n",
       " '__rmul__',\n",
       " '__setattr__',\n",
       " '__sizeof__',\n",
       " '__str__',\n",
       " '__subclasshook__',\n",
       " 'capitalize',\n",
       " 'casefold',\n",
       " 'center',\n",
       " 'count',\n",
       " 'encode',\n",
       " 'endswith',\n",
       " 'expandtabs',\n",
       " 'find',\n",
       " 'format',\n",
       " 'format_map',\n",
       " 'index',\n",
       " 'isalnum',\n",
       " 'isalpha',\n",
       " 'isdecimal',\n",
       " 'isdigit',\n",
       " 'isidentifier',\n",
       " 'islower',\n",
       " 'isnumeric',\n",
       " 'isprintable',\n",
       " 'isspace',\n",
       " 'istitle',\n",
       " 'isupper',\n",
       " 'join',\n",
       " 'ljust',\n",
       " 'lower',\n",
       " 'lstrip',\n",
       " 'maketrans',\n",
       " 'partition',\n",
       " 'replace',\n",
       " 'rfind',\n",
       " 'rindex',\n",
       " 'rjust',\n",
       " 'rpartition',\n",
       " 'rsplit',\n",
       " 'rstrip',\n",
       " 'split',\n",
       " 'splitlines',\n",
       " 'startswith',\n",
       " 'strip',\n",
       " 'swapcase',\n",
       " 'title',\n",
       " 'translate',\n",
       " 'upper',\n",
       " 'zfill']"
      ]
     },
     "execution_count": 32,
     "metadata": {},
     "output_type": "execute_result"
    }
   ],
   "source": [
    "dir(\"../frame\")"
   ]
  },
  {
   "cell_type": "code",
   "execution_count": 22,
   "metadata": {},
   "outputs": [
    {
     "name": "stdout",
     "output_type": "stream",
     "text": [
      "An error occured\n"
     ]
    },
    {
     "ename": "TypeError",
     "evalue": "'NoneType' object is not subscriptable",
     "output_type": "error",
     "traceback": [
      "\u001b[0;31m---------------------------------------------------------------------------\u001b[0m",
      "\u001b[0;31mTypeError\u001b[0m                                 Traceback (most recent call last)",
      "\u001b[0;32m<ipython-input-22-6b6a9d9ce456>\u001b[0m in \u001b[0;36m<module>\u001b[0;34m\u001b[0m\n\u001b[0;32m----> 1\u001b[0;31m \u001b[0mraiz\u001b[0m \u001b[0;34m=\u001b[0m \u001b[0mfolder\u001b[0m\u001b[0;34m.\u001b[0m\u001b[0mget_folders\u001b[0m\u001b[0;34m(\u001b[0m\u001b[0;34m\"../face\"\u001b[0m\u001b[0;34m)\u001b[0m\u001b[0;34m\u001b[0m\u001b[0;34m\u001b[0m\u001b[0m\n\u001b[0m",
      "\u001b[0;32m~/Documents/Ai/TrabajoGrado/cactus/cactus/utils/folder.py\u001b[0m in \u001b[0;36mget_folders\u001b[0;34m(path)\u001b[0m\n\u001b[1;32m     28\u001b[0m \u001b[0;34m\u001b[0m\u001b[0m\n\u001b[1;32m     29\u001b[0m \u001b[0;32mdef\u001b[0m \u001b[0mget_folders\u001b[0m\u001b[0;34m(\u001b[0m\u001b[0mpath\u001b[0m\u001b[0;34m:\u001b[0m \u001b[0mstr\u001b[0m\u001b[0;34m)\u001b[0m\u001b[0;34m:\u001b[0m\u001b[0;34m\u001b[0m\u001b[0;34m\u001b[0m\u001b[0m\n\u001b[0;32m---> 30\u001b[0;31m     \u001b[0;32mreturn\u001b[0m \u001b[0mget_info\u001b[0m\u001b[0;34m(\u001b[0m\u001b[0mpath\u001b[0m\u001b[0;34m)\u001b[0m\u001b[0;34m[\u001b[0m\u001b[0;36m1\u001b[0m\u001b[0;34m]\u001b[0m\u001b[0;34m\u001b[0m\u001b[0;34m\u001b[0m\u001b[0m\n\u001b[0m\u001b[1;32m     31\u001b[0m \u001b[0;34m\u001b[0m\u001b[0m\n\u001b[1;32m     32\u001b[0m \u001b[0;34m\u001b[0m\u001b[0m\n",
      "\u001b[0;31mTypeError\u001b[0m: 'NoneType' object is not subscriptable"
     ]
    }
   ],
   "source": [
    "raiz = folder.get_folders(\"../cactus/face\")"
   ]
  },
  {
   "cell_type": "code",
   "execution_count": 24,
   "metadata": {},
   "outputs": [
    {
     "ename": "IsADirectoryError",
     "evalue": "[Errno 21] Is a directory: '.'",
     "output_type": "error",
     "traceback": [
      "\u001b[0;31m---------------------------------------------------------------------------\u001b[0m",
      "\u001b[0;31mIsADirectoryError\u001b[0m                         Traceback (most recent call last)",
      "\u001b[0;32m<ipython-input-24-49eaf09cacb8>\u001b[0m in \u001b[0;36m<module>\u001b[0;34m\u001b[0m\n\u001b[0;32m----> 1\u001b[0;31m \u001b[0mdnn_detector\u001b[0m\u001b[0;34m.\u001b[0m\u001b[0mget_boxes_from_directory\u001b[0m\u001b[0;34m(\u001b[0m\u001b[0;34m\"../frames\"\u001b[0m\u001b[0;34m)\u001b[0m\u001b[0;34m\u001b[0m\u001b[0;34m\u001b[0m\u001b[0m\n\u001b[0m",
      "\u001b[0;32m~/Documents/Ai/TrabajoGrado/cactus/cactus/face/detection.py\u001b[0m in \u001b[0;36mget_boxes_from_directory\u001b[0;34m(self, path_batch)\u001b[0m\n\u001b[1;32m     19\u001b[0m         all_boxes = map(lambda x: add_string_to_array(\n\u001b[1;32m     20\u001b[0m             x, self.detect(x)), path_batch)\n\u001b[0;32m---> 21\u001b[0;31m         \u001b[0;32mreturn\u001b[0m \u001b[0mlist\u001b[0m\u001b[0;34m(\u001b[0m\u001b[0mall_boxes\u001b[0m\u001b[0;34m)\u001b[0m\u001b[0;34m\u001b[0m\u001b[0;34m\u001b[0m\u001b[0m\n\u001b[0m\u001b[1;32m     22\u001b[0m \u001b[0;34m\u001b[0m\u001b[0m\n\u001b[1;32m     23\u001b[0m     \u001b[0;32mdef\u001b[0m \u001b[0mto_face\u001b[0m\u001b[0;34m(\u001b[0m\u001b[0mself\u001b[0m\u001b[0;34m,\u001b[0m \u001b[0mframes_folder\u001b[0m\u001b[0;34m=\u001b[0m\u001b[0;34m\"frames\"\u001b[0m\u001b[0;34m,\u001b[0m \u001b[0mdest_folder\u001b[0m\u001b[0;34m=\u001b[0m\u001b[0;34m\"faces\"\u001b[0m\u001b[0;34m)\u001b[0m\u001b[0;34m:\u001b[0m\u001b[0;34m\u001b[0m\u001b[0;34m\u001b[0m\u001b[0m\n",
      "\u001b[0;32m~/Documents/Ai/TrabajoGrado/cactus/cactus/face/detection.py\u001b[0m in \u001b[0;36m<lambda>\u001b[0;34m(x)\u001b[0m\n\u001b[1;32m     18\u001b[0m     \u001b[0;32mdef\u001b[0m \u001b[0mget_boxes_from_directory\u001b[0m\u001b[0;34m(\u001b[0m\u001b[0mself\u001b[0m\u001b[0;34m,\u001b[0m \u001b[0mpath_batch\u001b[0m\u001b[0;34m)\u001b[0m\u001b[0;34m:\u001b[0m\u001b[0;34m\u001b[0m\u001b[0;34m\u001b[0m\u001b[0m\n\u001b[1;32m     19\u001b[0m         all_boxes = map(lambda x: add_string_to_array(\n\u001b[0;32m---> 20\u001b[0;31m             x, self.detect(x)), path_batch)\n\u001b[0m\u001b[1;32m     21\u001b[0m         \u001b[0;32mreturn\u001b[0m \u001b[0mlist\u001b[0m\u001b[0;34m(\u001b[0m\u001b[0mall_boxes\u001b[0m\u001b[0;34m)\u001b[0m\u001b[0;34m\u001b[0m\u001b[0;34m\u001b[0m\u001b[0m\n\u001b[1;32m     22\u001b[0m \u001b[0;34m\u001b[0m\u001b[0m\n",
      "\u001b[0;32m~/Documents/Ai/TrabajoGrado/cactus/cactus/face/strategy/haar.py\u001b[0m in \u001b[0;36mhaar\u001b[0;34m(imagen)\u001b[0m\n\u001b[1;32m      8\u001b[0m \u001b[0;34m\u001b[0m\u001b[0m\n\u001b[1;32m      9\u001b[0m \u001b[0;32mdef\u001b[0m \u001b[0mhaar\u001b[0m\u001b[0;34m(\u001b[0m\u001b[0mimagen\u001b[0m\u001b[0;34m)\u001b[0m\u001b[0;34m:\u001b[0m\u001b[0;34m\u001b[0m\u001b[0;34m\u001b[0m\u001b[0m\n\u001b[0;32m---> 10\u001b[0;31m     \u001b[0mimg\u001b[0m \u001b[0;34m=\u001b[0m \u001b[0mread\u001b[0m\u001b[0;34m(\u001b[0m\u001b[0mimagen\u001b[0m\u001b[0;34m)\u001b[0m\u001b[0;34m\u001b[0m\u001b[0;34m\u001b[0m\u001b[0m\n\u001b[0m\u001b[1;32m     11\u001b[0m     \u001b[0mimg_width\u001b[0m\u001b[0;34m,\u001b[0m \u001b[0mimg_height\u001b[0m \u001b[0;34m=\u001b[0m \u001b[0mimg\u001b[0m\u001b[0;34m.\u001b[0m\u001b[0msize\u001b[0m\u001b[0;34m\u001b[0m\u001b[0;34m\u001b[0m\u001b[0m\n\u001b[1;32m     12\u001b[0m     \u001b[0mimg_array\u001b[0m \u001b[0;34m=\u001b[0m \u001b[0mto_numpy\u001b[0m\u001b[0;34m(\u001b[0m\u001b[0mimg\u001b[0m\u001b[0;34m)\u001b[0m\u001b[0;34m\u001b[0m\u001b[0;34m\u001b[0m\u001b[0m\n",
      "\u001b[0;32m~/Documents/Ai/TrabajoGrado/cactus/cactus/utils/image.py\u001b[0m in \u001b[0;36mread\u001b[0;34m(path)\u001b[0m\n\u001b[1;32m      5\u001b[0m \u001b[0;34m\u001b[0m\u001b[0m\n\u001b[1;32m      6\u001b[0m \u001b[0;32mdef\u001b[0m \u001b[0mread\u001b[0m\u001b[0;34m(\u001b[0m\u001b[0mpath\u001b[0m\u001b[0;34m:\u001b[0m \u001b[0mstr\u001b[0m\u001b[0;34m)\u001b[0m\u001b[0;34m:\u001b[0m\u001b[0;34m\u001b[0m\u001b[0;34m\u001b[0m\u001b[0m\n\u001b[0;32m----> 7\u001b[0;31m     \u001b[0;32mreturn\u001b[0m \u001b[0mImage\u001b[0m\u001b[0;34m.\u001b[0m\u001b[0mopen\u001b[0m\u001b[0;34m(\u001b[0m\u001b[0mpath\u001b[0m\u001b[0;34m)\u001b[0m\u001b[0;34m\u001b[0m\u001b[0;34m\u001b[0m\u001b[0m\n\u001b[0m\u001b[1;32m      8\u001b[0m \u001b[0;34m\u001b[0m\u001b[0m\n\u001b[1;32m      9\u001b[0m \u001b[0;34m\u001b[0m\u001b[0m\n",
      "\u001b[0;32m~/anaconda3/envs/cactus/lib/python3.6/site-packages/PIL/Image.py\u001b[0m in \u001b[0;36mopen\u001b[0;34m(fp, mode)\u001b[0m\n\u001b[1;32m   2650\u001b[0m \u001b[0;34m\u001b[0m\u001b[0m\n\u001b[1;32m   2651\u001b[0m     \u001b[0;32mif\u001b[0m \u001b[0mfilename\u001b[0m\u001b[0;34m:\u001b[0m\u001b[0;34m\u001b[0m\u001b[0;34m\u001b[0m\u001b[0m\n\u001b[0;32m-> 2652\u001b[0;31m         \u001b[0mfp\u001b[0m \u001b[0;34m=\u001b[0m \u001b[0mbuiltins\u001b[0m\u001b[0;34m.\u001b[0m\u001b[0mopen\u001b[0m\u001b[0;34m(\u001b[0m\u001b[0mfilename\u001b[0m\u001b[0;34m,\u001b[0m \u001b[0;34m\"rb\"\u001b[0m\u001b[0;34m)\u001b[0m\u001b[0;34m\u001b[0m\u001b[0;34m\u001b[0m\u001b[0m\n\u001b[0m\u001b[1;32m   2653\u001b[0m         \u001b[0mexclusive_fp\u001b[0m \u001b[0;34m=\u001b[0m \u001b[0;32mTrue\u001b[0m\u001b[0;34m\u001b[0m\u001b[0;34m\u001b[0m\u001b[0m\n\u001b[1;32m   2654\u001b[0m \u001b[0;34m\u001b[0m\u001b[0m\n",
      "\u001b[0;31mIsADirectoryError\u001b[0m: [Errno 21] Is a directory: '.'"
     ]
    }
   ],
   "source": [
    "dnn_detector.get_boxes_from_directory(\"../frames\")"
   ]
  },
  {
   "cell_type": "code",
   "execution_count": 19,
   "metadata": {},
   "outputs": [
    {
     "name": "stdout",
     "output_type": "stream",
     "text": [
      "[['../cactus/face/strategy/haar.py', 'faces/strategy/haar.py'], ['../cactus/face/strategy/dnn.py', 'faces/strategy/dnn.py'], ['../cactus/face/strategy/__init__.py', 'faces/strategy/__init__.py'], ['../cactus/face/strategy/hog.py', 'faces/strategy/hog.py']]\n",
      "[['../cactus/face/__pycache__/detection.cpython-36.pyc', 'faces/__pycache__/detection.cpython-36.pyc'], ['../cactus/face/__pycache__/__init__.cpython-36.pyc', 'faces/__pycache__/__init__.cpython-36.pyc']]\n"
     ]
    }
   ],
   "source": [
    "frames = \"../cactus/face\"\n",
    "dest = \"faces\"\n",
    "for nodo in raiz:\n",
    "    nodo_total = \"{}/{}\".format(frames, nodo)\n",
    "    nodo_destino = \"{}/{}\".format(dest, nodo)\n",
    "    \n",
    "    archivos = folder.get_files(nodo_total)\n",
    "    archivos = list(map(lambda x:[\"{}/{}\".format(nodo_total,x),\"{}/{}\".format(nodo_destino,x)] , archivos))\n",
    "    print(archivos)"
   ]
  },
  {
   "cell_type": "code",
   "execution_count": null,
   "metadata": {},
   "outputs": [],
   "source": []
  }
 ],
 "metadata": {
  "kernelspec": {
   "display_name": "Cactus",
   "language": "python",
   "name": "cactus"
  },
  "language_info": {
   "codemirror_mode": {
    "name": "ipython",
    "version": 3
   },
   "file_extension": ".py",
   "mimetype": "text/x-python",
   "name": "python",
   "nbconvert_exporter": "python",
   "pygments_lexer": "ipython3",
   "version": "3.7.3"
  }
 },
 "nbformat": 4,
 "nbformat_minor": 2
}
